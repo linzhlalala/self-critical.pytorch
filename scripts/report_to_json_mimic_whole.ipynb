{
 "cells": [
  {
   "cell_type": "code",
   "execution_count": 11,
   "metadata": {},
   "outputs": [
    {
     "name": "stderr",
     "output_type": "stream",
     "text": [
      "100%|██████████| 227835/227835 [00:32<00:00, 7071.82it/s]"
     ]
    },
    {
     "name": "stdout",
     "output_type": "stream",
     "text": [
      "total report number 216166 report_train_num 151069 report_val_num 43162 report_test_num 21935\n",
      "total image number 360416 training image number 251893 testing image number 36508 val image num 72015\n"
     ]
    },
    {
     "name": "stderr",
     "output_type": "stream",
     "text": [
      "\n"
     ]
    }
   ],
   "source": [
    "import pandas as pd\n",
    "import json\n",
    "import os\n",
    "import numpy as np\n",
    "import random\n",
    "from tqdm import tqdm\n",
    "import collections\n",
    "import re\n",
    "\n",
    "\n",
    "def txt2string(fpath):\n",
    "    f = open(fpath,'r')\n",
    "    lines = f.readlines()\n",
    "    finaldict = {}\n",
    "\n",
    "    last_key = \"\"\n",
    "    for line in lines:\n",
    "        line = line.strip().lower()\n",
    "        if line !='':\n",
    "            if ':' in line:\n",
    "                key, value = line.split(':', 1)\n",
    "                if key != '' and not key[-1].isnumeric():\n",
    "                    finaldict[key] = value.strip()\n",
    "                    last_key = key\n",
    "                elif last_key != \"\":\n",
    "                    finaldict[last_key] += ' ' + line\n",
    "            elif last_key != \"\":\n",
    "                finaldict[last_key] += ' ' + line\n",
    "    return finaldict\n",
    "\n",
    "\n",
    "def get_label():\n",
    "    sampleList = [0, 0, 0, 0, 0, 0, 0, 1, 1, 2] #: 0 train 1 validate 2 test\n",
    "    x = random.choice(sampleList)\n",
    "    return x\n",
    "\n",
    "def clean_report_mimic_cxr(report):\n",
    "    report_cleaner = lambda t: t.replace('\\n', ' ').replace('__', '_').replace('__', '_').replace('__', '_') \\\n",
    "        .replace('__', '_').replace('__', '_').replace('__', '_').replace('__', '_').replace('  ', ' ') \\\n",
    "        .replace('  ', ' ').replace('  ', ' ').replace('  ', ' ').replace('  ', ' ').replace('  ', ' ') \\\n",
    "        .replace('..', '.').replace('..', '.').replace('..', '.').replace('..', '.').replace('..', '.') \\\n",
    "        .replace('..', '.').replace('..', '.').replace('..', '.').replace('1. ', '').replace('. 2. ', '. ') \\\n",
    "        .replace('. 3. ', '. ').replace('. 4. ', '. ').replace('. 5. ', '. ').replace(' 2. ', '. ') \\\n",
    "        .replace(' 3. ', '. ').replace(' 4. ', '. ').replace(' 5. ', '. ') \\\n",
    "        .strip().lower().split('. ')\n",
    "    sent_cleaner = lambda t: re.sub('[.,?;*!%^&_+():-\\[\\]{}]', '', t.replace('\"', '').replace('/', '')\n",
    "                                    .replace('\\\\', '').replace(\"'\", '').strip().lower())\n",
    "    tokens = [sent_cleaner(sent) for sent in report_cleaner(report) if sent_cleaner(sent) != []]\n",
    "    report = ' . '.join(tokens) + ' .'\n",
    "    return report\n",
    "\n",
    "# job_length = params[\"job_length\"]\n",
    "params = {}\n",
    "params['length_threshold_upper'] = 800\n",
    "params['length_threshold_lower'] = 0\n",
    "params['findings'] = True\n",
    "params['impression'] = True\n",
    "\n",
    "# report_csv = \"cxr-study-list.csv\"\n",
    "# image_csv = \"cxr-record-list.csv\"\n",
    "# metadata_csv = \"mimic-cxr-2.0.0-metadata.csv\"\n",
    "\n",
    "report_csv = \"/media/hdd/data/imcaption/mimic/cxr-study-list.csv\"\n",
    "image_csv = \"/media/hdd/data/imcaption/mimic/cxr-record-list.csv\"\n",
    "metadata_csv = \"/media/hdd/data/imcaption/mimic/mimic-cxr-2.0.0-metadata.csv\"\n",
    "txt_report_prefix = \"/media/hdd/data/imcaption/mimic/mimic-cxr-reports\"\n",
    "report_list = pd.read_csv(report_csv)\n",
    "image_list = pd.read_csv(image_csv)\n",
    "metadata_list = pd.read_csv(metadata_csv)\n",
    "final_list = []\n",
    "report_keys = {}\n",
    "cursor_image_list = 0    \n",
    "length_image_list = image_list.shape[0]\n",
    "token_length_list = []\n",
    "\n",
    "count = 0\n",
    "train_num = 0\n",
    "test_num = 0\n",
    "val_num = 0\n",
    "report_train_num = 0\n",
    "report_val_num = 0\n",
    "report_test_num = 0\n",
    "for i in tqdm(range(report_list.shape[0])):\n",
    "    path = report_list.loc[i, \"path\"]\n",
    "    #report to string\n",
    "    txt_path = os.path.join(txt_report_prefix, path)\n",
    "    report_dict = txt2string(txt_path)\n",
    "\n",
    "    #take \"findings + impression\" only, no finding or impression -> skip\n",
    "    if \"findings\" not in report_dict and \"impression\" not in report_dict:\n",
    "        # print('there is no finding or impression section', txt_path)\n",
    "        continue\n",
    "    else:\n",
    "        text = report_dict.get(\"findings\", '') + report_dict.get(\"impression\",'')\n",
    "        text = clean_report_mimic_cxr(text)\n",
    "\n",
    "    #length check       \n",
    "    len_text = len(text.split(' '))\n",
    "    if len_text > params['length_threshold_upper']:\n",
    "        continue\n",
    "\n",
    "    tokens = [token for token in text.split(' ') if token != \"\"]\n",
    "    if len_text < params['length_threshold_lower']:\n",
    "        continue\n",
    "#         pass\n",
    "    token_length_list.append(len(tokens))\n",
    "    study_id = report_list.loc[i, \"study_id\"]\n",
    "    subject_id = report_list.loc[i, \"subject_id\"]\n",
    "    #find corresponding image\n",
    "    image_paths = []\n",
    "    #locate all first image\n",
    "    while cursor_image_list<length_image_list:\n",
    "        image_sid = image_list.loc[cursor_image_list,\"study_id\"]\n",
    "        if image_sid != study_id:\n",
    "            cursor_image_list += 1\n",
    "        else:                \n",
    "            break\n",
    "    #take all\n",
    "    while cursor_image_list<length_image_list:\n",
    "        image_sid = image_list.loc[cursor_image_list, \"study_id\"]\n",
    "        if image_sid == study_id:\n",
    "            image_paths.append(image_list.loc[cursor_image_list, \"path\"].replace('.dcm', '.jpg'))\n",
    "            cursor_image_list += 1\n",
    "        else:\n",
    "            break\n",
    "    if image_paths == []:\n",
    "        continue\n",
    "    label = get_label()\n",
    "    if label == 0:\n",
    "        report_train_num = report_train_num + 1\n",
    "    elif label == 1:\n",
    "        report_val_num = report_val_num + 1\n",
    "    else:\n",
    "        report_test_num = report_test_num + 1\n",
    "    for image in image_paths:\n",
    "    #form json object \n",
    "        study = {}\n",
    "        study['file_path'] = image\n",
    "        study['sentids'] = [count]\n",
    "        study['imgid'] = count\n",
    "        study['sentences'] = [{'raw':text,'imgid':count,'sentid':count,'tokens':tokens}]\n",
    "        study['study_id'] = str(study_id)\n",
    "        study['subject_id'] = str(subject_id)\n",
    "        # shuffle split\n",
    "        if label == 0:\n",
    "            study['split'] = 'train'\n",
    "            train_num = train_num + 1\n",
    "        elif label == 1:\n",
    "            study['split'] = 'val'\n",
    "            val_num = val_num + 1\n",
    "        else:\n",
    "            study['split'] = 'test'\n",
    "            test_num = test_num + 1\n",
    "        final_list.append(study)  \n",
    "        #asset finish\n",
    "        count += 1\n",
    "    #if count == job_length:\n",
    "    #   break\n",
    "print('total report number',\n",
    "      report_train_num+report_val_num+report_test_num,\n",
    "     'report_train_num', report_train_num,\n",
    "     'report_val_num', report_val_num,\n",
    "     'report_test_num', report_test_num)\n",
    "print('total image number', train_num+test_num+val_num,\n",
    " 'training image number', train_num,\n",
    "  'testing image number', test_num,\n",
    "   'val image num', val_num)\n",
    "counter = collections.Counter\n",
    "# with open('data/dataset_mimic_whole.json', 'w') as outfile:\n",
    "#     json.dump({'images': final_list, 'dataset': 'mimic-cxr-test'}, outfile)"
   ]
  },
  {
   "cell_type": "code",
   "execution_count": 5,
   "metadata": {},
   "outputs": [
    {
     "name": "stdout",
     "output_type": "stream",
     "text": [
      "the et tube terminates approximately 2.9 cm from the carina.  the ng tube courses below the diaphragm with the tip out of the field of view of the film.  there has been interval worsening of the right linear opacification likely secondary to atelectasis. no pneumothorax or definite pleural effusion is seen. the hilar and mediastinal contours are normal. there is mild cardiomegaly, stable compared to the preior exam. slight interval worsening of right lower lung atelectasis.\n",
      "the et tube terminates approximately 29 cm from the carina . the ng tube courses below the diaphragm with the tip out of the field of view of the film . there has been interval worsening of the right linear opacification likely secondary to atelectasis . no pneumothorax or definite pleural effusion is seen . the hilar and mediastinal contours are normal . there is mild cardiomegaly stable compared to the preior exam . slight interval worsening of right lower lung atelectasis .\n"
     ]
    }
   ],
   "source": [
    "import re\n",
    "print(text)\n",
    "clean_text = clean_report_mimic_cxr(text)\n",
    "print(clean_text)"
   ]
  },
  {
   "cell_type": "code",
   "execution_count": 11,
   "metadata": {},
   "outputs": [
    {
     "data": {
      "image/png": "[encoded data removed]",
      "text/plain": [
       "<Figure size 432x288 with 1 Axes>"
      ]
     },
     "metadata": {
      "needs_background": "light"
     },
     "output_type": "display_data"
    }
   ],
   "source": [
    "import matplotlib.pyplot as plt\n",
    "# Generate data on commute times.\n",
    "commutes = pd.Series(token_length_list)\n",
    "\n",
    "commutes.plot.hist(grid=True, bins=50, color='#607c8e')\n",
    "plt.title('Length distribution of report')\n",
    "plt.xlabel('Sentence Length')\n",
    "plt.ylabel('Number of Reports')\n",
    "plt.grid(axis='y', alpha=0.75)"
   ]
  }
 ],
 "metadata": {
  "kernelspec": {
   "display_name": "Python 3",
   "language": "python",
   "name": "python3"
  },
  "language_info": {
   "codemirror_mode": {
    "name": "ipython",
    "version": 3
   },
   "file_extension": ".py",
   "mimetype": "text/x-python",
   "name": "python",
   "nbconvert_exporter": "python",
   "pygments_lexer": "ipython3",
   "version": "3.7.9"
  }
 },
 "nbformat": 4,
 "nbformat_minor": 4
}
