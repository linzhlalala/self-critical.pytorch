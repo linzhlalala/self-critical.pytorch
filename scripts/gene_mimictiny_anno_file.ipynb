{
 "cells": [
  {
   "cell_type": "code",
   "execution_count": 1,
   "metadata": {
    "scrolled": true
   },
   "outputs": [
    {
     "name": "stdout",
     "output_type": "stream",
     "text": [
      "dict_keys(['images', 'dataset'])\n",
      "flickr30k\n",
      "{'sentids': [0, 1, 2, 3, 4], 'imgid': 0, 'sentences': [{'tokens': ['two', 'young', 'guys', 'with', 'shaggy', 'hair', 'look', 'at', 'their', 'hands', 'while', 'hanging', 'out', 'in', 'the', 'yard'], 'raw': 'Two young guys with shaggy hair look at their hands while hanging out in the yard.', 'imgid': 0, 'sentid': 0}, {'tokens': ['two', 'young', 'white', 'males', 'are', 'outside', 'near', 'many', 'bushes'], 'raw': 'Two young, White males are outside near many bushes.', 'imgid': 0, 'sentid': 1}, {'tokens': ['two', 'men', 'in', 'green', 'shirts', 'are', 'standing', 'in', 'a', 'yard'], 'raw': 'Two men in green shirts are standing in a yard.', 'imgid': 0, 'sentid': 2}, {'tokens': ['a', 'man', 'in', 'a', 'blue', 'shirt', 'standing', 'in', 'a', 'garden'], 'raw': 'A man in a blue shirt standing in a garden.', 'imgid': 0, 'sentid': 3}, {'tokens': ['two', 'friends', 'enjoy', 'time', 'spent', 'together'], 'raw': 'Two friends enjoy time spent together.', 'imgid': 0, 'sentid': 4}], 'split': 'train', 'filename': '1000092795.jpg'}\n"
     ]
    }
   ],
   "source": [
    "import json  \n",
    "with open(\"data/dataset_flickr30k.json\", \"r\") as rf:\n",
    "    decoded_data = json.load(rf)\n",
    "print(decoded_data.keys())\n",
    "print(decoded_data['dataset'])\n",
    "print(decoded_data['images'][0])"
   ]
  },
  {
   "cell_type": "code",
   "execution_count": 2,
   "metadata": {},
   "outputs": [
    {
     "name": "stdout",
     "output_type": "stream",
     "text": [
      "{'tokens': ['two', 'young', 'guys', 'with', 'shaggy', 'hair', 'look', 'at', 'their', 'hands', 'while', 'hanging', 'out', 'in', 'the', 'yard'], 'raw': 'Two young guys with shaggy hair look at their hands while hanging out in the yard.', 'imgid': 0, 'sentid': 0}\n"
     ]
    }
   ],
   "source": [
    "print(decoded_data['images'][0]['sentences'][0])"
   ]
  },
  {
   "cell_type": "code",
   "execution_count": 3,
   "metadata": {},
   "outputs": [
    {
     "name": "stdout",
     "output_type": "stream",
     "text": [
      "dict_keys(['info', 'licenses', 'images', 'type', 'annotations'])\n"
     ]
    }
   ],
   "source": [
    "import json  \n",
    "with open(\"data/f30k_captions4eval.json\", \"r\") as f30k:\n",
    "    f30k_data = json.load(f30k)\n",
    "print(f30k_data.keys())"
   ]
  },
  {
   "cell_type": "code",
   "execution_count": 4,
   "metadata": {},
   "outputs": [
    {
     "name": "stdout",
     "output_type": "stream",
     "text": [
      "{'description': 'This is stable 1.0 version of the 2014 MS COCO dataset.', 'url': 'http://mscoco.org', 'version': '1.0', 'year': 2014, 'contributor': 'Microsoft COCO group', 'date_created': '2015-01-27 09:11:52.357475'}\n"
     ]
    }
   ],
   "source": [
    "print(f30k_data['info'])"
   ]
  },
  {
   "cell_type": "code",
   "execution_count": 5,
   "metadata": {},
   "outputs": [
    {
     "name": "stdout",
     "output_type": "stream",
     "text": [
      "[{'url': 'http://creativecommons.org/licenses/by-nc-sa/2.0/', 'id': 1, 'name': 'Attribution-NonCommercial-ShareAlike License'}, {'url': 'http://creativecommons.org/licenses/by-nc/2.0/', 'id': 2, 'name': 'Attribution-NonCommercial License'}, {'url': 'http://creativecommons.org/licenses/by-nc-nd/2.0/', 'id': 3, 'name': 'Attribution-NonCommercial-NoDerivs License'}, {'url': 'http://creativecommons.org/licenses/by/2.0/', 'id': 4, 'name': 'Attribution License'}, {'url': 'http://creativecommons.org/licenses/by-sa/2.0/', 'id': 5, 'name': 'Attribution-ShareAlike License'}, {'url': 'http://creativecommons.org/licenses/by-nd/2.0/', 'id': 6, 'name': 'Attribution-NoDerivs License'}, {'url': 'http://flickr.com/commons/usage/', 'id': 7, 'name': 'No known copyright restrictions'}, {'url': 'http://www.usa.gov/copyright.shtml', 'id': 8, 'name': 'United States Government Work'}]\n"
     ]
    }
   ],
   "source": [
    "print(f30k_data['licenses'])"
   ]
  },
  {
   "cell_type": "code",
   "execution_count": 6,
   "metadata": {},
   "outputs": [
    {
     "name": "stdout",
     "output_type": "stream",
     "text": [
      "<class 'str'>\n"
     ]
    }
   ],
   "source": [
    "print(type(f30k_data['type']))"
   ]
  },
  {
   "cell_type": "code",
   "execution_count": 7,
   "metadata": {},
   "outputs": [
    {
     "name": "stdout",
     "output_type": "stream",
     "text": [
      "{'id': 25}\n",
      "{'id': 34}\n",
      "{'id': 30652}\n"
     ]
    }
   ],
   "source": [
    "print(f30k_data['images'][0])\n",
    "print(f30k_data['images'][1])\n",
    "print(f30k_data['images'][2000])"
   ]
  },
  {
   "cell_type": "code",
   "execution_count": 8,
   "metadata": {},
   "outputs": [
    {
     "data": {
      "text/plain": [
       "{'image_id': 25,\n",
       " 'id': 0,\n",
       " 'caption': 'the man with pierced ears is wearing glasses and an orange hat'}"
      ]
     },
     "execution_count": 8,
     "metadata": {},
     "output_type": "execute_result"
    }
   ],
   "source": [
    "f30k_data['annotations'][0]"
   ]
  },
  {
   "cell_type": "code",
   "execution_count": 9,
   "metadata": {},
   "outputs": [
    {
     "data": {
      "text/plain": [
       "{'image_id': 89,\n",
       " 'id': 20,\n",
       " 'caption': 'five snowmobile riders all wearing helmets and goggles line up in a snowy clearing in a forest in front of their snowmobiles they are all wearing black snow pants and from left to right they are wearing a black coat white coat red coat blue coat and black coat'}"
      ]
     },
     "execution_count": 9,
     "metadata": {},
     "output_type": "execute_result"
    }
   ],
   "source": [
    "f30k_data['annotations'][20]"
   ]
  },
  {
   "cell_type": "code",
   "execution_count": 10,
   "metadata": {},
   "outputs": [
    {
     "name": "stdout",
     "output_type": "stream",
     "text": [
      "{'info': {'description': 'This is stable 1.0 version of the 2014 MS COCO dataset.', 'url': 'http://mscoco.org', 'version': '1.0', 'year': 2014, 'contributor': 'Microsoft COCO group', 'date_created': '2015-01-27 09:11:52.357475'}}\n"
     ]
    }
   ],
   "source": [
    "# step 1 create empty dic\n",
    "mimictiny_data = {}\n",
    "# step 2 copy info \n",
    "mimictiny_data['info'] = f30k_data['info']\n",
    "print(mimictiny_data)"
   ]
  },
  {
   "cell_type": "code",
   "execution_count": 11,
   "metadata": {},
   "outputs": [
    {
     "name": "stdout",
     "output_type": "stream",
     "text": [
      "{'info': {'description': 'This is stable 1.0 version of the 2014 MS COCO dataset.', 'url': 'http://mscoco.org', 'version': '1.0', 'year': 2014, 'contributor': 'Microsoft COCO group', 'date_created': '2015-01-27 09:11:52.357475'}, 'licenses': [{'url': 'http://creativecommons.org/licenses/by-nc-sa/2.0/', 'id': 1, 'name': 'Attribution-NonCommercial-ShareAlike License'}, {'url': 'http://creativecommons.org/licenses/by-nc/2.0/', 'id': 2, 'name': 'Attribution-NonCommercial License'}, {'url': 'http://creativecommons.org/licenses/by-nc-nd/2.0/', 'id': 3, 'name': 'Attribution-NonCommercial-NoDerivs License'}, {'url': 'http://creativecommons.org/licenses/by/2.0/', 'id': 4, 'name': 'Attribution License'}, {'url': 'http://creativecommons.org/licenses/by-sa/2.0/', 'id': 5, 'name': 'Attribution-ShareAlike License'}, {'url': 'http://creativecommons.org/licenses/by-nd/2.0/', 'id': 6, 'name': 'Attribution-NoDerivs License'}, {'url': 'http://flickr.com/commons/usage/', 'id': 7, 'name': 'No known copyright restrictions'}, {'url': 'http://www.usa.gov/copyright.shtml', 'id': 8, 'name': 'United States Government Work'}]}\n"
     ]
    }
   ],
   "source": [
    "# step 3 copy licenses\n",
    "mimictiny_data['licenses'] = f30k_data['licenses']\n",
    "print(mimictiny_data)"
   ]
  },
  {
   "cell_type": "code",
   "execution_count": 12,
   "metadata": {},
   "outputs": [],
   "source": [
    "# step 4 load images ids from datasets mimictiny\n",
    "import json  \n",
    "with open(\"data/dataset_mimic.json\", \"r\") as fmimictiny:\n",
    "    mimictiny_dataset = json.load(fmimictiny)\n",
    "# print(mimictiny_dataset.keys())\n",
    "mimictiny_images = mimictiny_dataset['images'].copy()\n",
    "# step 5 combine all ids into a list \n",
    "mimictiny_data_images = []\n",
    "mimictiny_data_annotations = []\n",
    "for cnt, im in enumerate(mimictiny_images):\n",
    "    imdic = {} \n",
    "    imdic['id'] = im['imgid']\n",
    "    mimictiny_data_images.append(imdic)\n",
    "    caption_dic = {}\n",
    "    caption_dic['id'] = cnt \n",
    "    caption_dic['image_id'] = im['imgid']\n",
    "    caption_dic['caption'] = mimictiny_dataset['images'][cnt]['sentences'][0]['raw']\n",
    "    mimictiny_data_annotations.append(caption_dic)\n",
    "#     print(mimictiny_data_images)\n",
    "mimictiny_data['images'] = mimictiny_data_images.copy()\n",
    "mimictiny_data['annotations'] = mimictiny_data_annotations.copy()\n",
    "# step 5.5 add 'type' key\n",
    "mimictiny_data['type'] = f30k_data['type'] "
   ]
  },
  {
   "cell_type": "code",
   "execution_count": 13,
   "metadata": {
    "scrolled": true
   },
   "outputs": [],
   "source": [
    "mimictiny_dataset['images'][0]['sentences'][0]['raw']\n",
    "mimictiny_data['dataset'] = 'mimic'"
   ]
  },
  {
   "cell_type": "code",
   "execution_count": 14,
   "metadata": {},
   "outputs": [
    {
     "name": "stdout",
     "output_type": "stream",
     "text": [
      "{'id': 3, 'image_id': 3, 'caption': ' pa and lateral views of the chest provided.   lung volumes are somewhat low. there is no focal consolidation, effusion, or pneumothorax. the cardiomediastinal silhouette is normal. imaged osseous structures are intact. no free air below the right hemidiaphragm is seen.'}\n"
     ]
    }
   ],
   "source": [
    "print(mimictiny_data_annotations[3])"
   ]
  },
  {
   "cell_type": "code",
   "execution_count": 15,
   "metadata": {},
   "outputs": [
    {
     "name": "stdout",
     "output_type": "stream",
     "text": [
      "save to success\n"
     ]
    }
   ],
   "source": [
    "# step 6 save dic into json file\n",
    "a_file = open(\"data/mimic_eval.json\", \"w\")\n",
    "json.dump(mimictiny_data, a_file)\n",
    "a_file.close()\n",
    "print(\"save to success\")"
   ]
  },
  {
   "cell_type": "code",
   "execution_count": 16,
   "metadata": {},
   "outputs": [
    {
     "data": {
      "text/plain": [
       "'mimic'"
      ]
     },
     "execution_count": 16,
     "metadata": {},
     "output_type": "execute_result"
    }
   ],
   "source": [
    "mimictiny_data['dataset']"
   ]
  },
  {
   "cell_type": "code",
   "execution_count": null,
   "metadata": {},
   "outputs": [],
   "source": []
  }
 ],
 "metadata": {
  "kernelspec": {
   "display_name": "Python 3",
   "language": "python",
   "name": "python3"
  },
  "language_info": {
   "codemirror_mode": {
    "name": "ipython",
    "version": 3
   },
   "file_extension": ".py",
   "mimetype": "text/x-python",
   "name": "python",
   "nbconvert_exporter": "python",
   "pygments_lexer": "ipython3",
   "version": "3.7.9"
  }
 },
 "nbformat": 4,
 "nbformat_minor": 4
}
